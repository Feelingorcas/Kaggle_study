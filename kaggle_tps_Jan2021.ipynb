{
  "nbformat": 4,
  "nbformat_minor": 0,
  "metadata": {
    "colab": {
      "name": "kaggle_tps_Jan2021.ipynb",
      "provenance": [],
      "collapsed_sections": [],
      "machine_shape": "hm",
      "toc_visible": true,
      "mount_file_id": "1Au8kjKucB6d_gOqhqNhPPIgTiJUwO2Ww",
      "authorship_tag": "ABX9TyO0nPT8JVCe+YadcHgd0axG",
      "include_colab_link": true
    },
    "kernelspec": {
      "name": "python3",
      "display_name": "Python 3"
    },
    "language_info": {
      "name": "python"
    },
    "accelerator": "GPU"
  },
  "cells": [
    {
      "cell_type": "markdown",
      "metadata": {
        "id": "view-in-github",
        "colab_type": "text"
      },
      "source": [
        "<a href=\"https://colab.research.google.com/github/Feelingorcas/Kaggle_study/blob/master/kaggle_tps_Jan2021.ipynb\" target=\"_parent\"><img src=\"https://colab.research.google.com/assets/colab-badge.svg\" alt=\"Open In Colab\"/></a>"
      ]
    },
    {
      "cell_type": "code",
      "execution_count": null,
      "metadata": {
        "id": "Vh5JjJ066sT_"
      },
      "outputs": [],
      "source": [
        "## kagggle tabular playground Series January 2021\n",
        "\n",
        "## 2022 - 05 - 18 20 : 26 start \n"
      ]
    },
    {
      "cell_type": "code",
      "source": [
        "from google.colab import drive\n",
        "drive.mount('/content/drive', force_remount = True)"
      ],
      "metadata": {
        "colab": {
          "base_uri": "https://localhost:8080/"
        },
        "id": "vzHBgA4N63ve",
        "outputId": "02988326-5dba-4154-d498-3e6f5aac2ce2"
      },
      "execution_count": null,
      "outputs": [
        {
          "output_type": "stream",
          "name": "stdout",
          "text": [
            "Mounted at /content/drive\n"
          ]
        }
      ]
    },
    {
      "cell_type": "code",
      "source": [
        "#libraries \n",
        "\n",
        "import torch \n",
        "import tensorflow as tf\n",
        "import torch.nn as nn\n",
        "import pandas as pd \n",
        "import numpy as np \n",
        "import matplotlib.pyplot as plt "
      ],
      "metadata": {
        "id": "JmBzZlLl-3z6"
      },
      "execution_count": null,
      "outputs": []
    },
    {
      "cell_type": "code",
      "source": [
        "#Dataset download using Kaggle API - json file needed and competition participation needed.\n",
        "\n",
        "#!pip install kaggle --upgrade\n",
        "!cp /content/drive/MyDrive/Kaggles/kaggle.json ~/.kaggle/kaggle.json\n",
        "!mkdir /content/drive/MyDrive/Kaggles/kaggle_tps1/dataset\n",
        "!kaggle competitions download -c tabular-playground-series-jan-2021 -p /content/drive/MyDrive/Kaggle/kaggle/kaggle_tps1/dataset \n",
        "\n",
        "# # \n",
        "# !ls /content/drive/MyDrive/Kaggle/kaggle/kaggle_tps1/dataset\n",
        "# !unzip tabular-playground-series-jan-2021.zip -d /content/drive/MyDrive/Kaggle/kaggle/kaggle_tps1/dataset\n",
        "# !ls /content/drive/MyDrive/Kaggle/kaggle/kaggle_tps1/dataset"
      ],
      "metadata": {
        "colab": {
          "base_uri": "https://localhost:8080/"
        },
        "id": "fWYNs4Sf7wd5",
        "outputId": "913f49da-52d8-4a15-aa3b-f63b74c66ca0"
      },
      "execution_count": null,
      "outputs": [
        {
          "output_type": "stream",
          "name": "stdout",
          "text": [
            "mkdir: cannot create directory ‘/content/drive/MyDrive/Kaggles/kaggle_tps1/dataset’: File exists\n",
            "tabular-playground-series-jan-2021.zip: Skipping, found more recently modified local copy (use --force to force download)\n"
          ]
        }
      ]
    },
    {
      "cell_type": "code",
      "source": [
        "# load data\n",
        "device = torch.device(\"cuda\" if torch.cuda.is_available() else \"cpu\")\n",
        "\n",
        "traindir = '/content/drive/MyDrive/Kaggle/kaggle/kaggle_tps1/dataset/train.csv'\n",
        "testdir = '/content/drive/MyDrive/Kaggle/kaggle/kaggle_tps1/dataset/test.csv'\n",
        "\n",
        "traindf = pd.read_csv(traindir)\n",
        "testdf = pd.read_csv(testdir)"
      ],
      "metadata": {
        "id": "gk1IX2JT95Tc"
      },
      "execution_count": null,
      "outputs": []
    },
    {
      "cell_type": "code",
      "source": [
        "#데이터 분포 확인하기 / 5/18 20:57 여기까지 진행 // # 2022-05-19 01:13 부터 다시 시작 \n",
        "\n",
        "traindf.describe()\n",
        "for column in traindf.columns :\n",
        "  plt.title(column)\n",
        "  plt.hist(traindf[column]) \n",
        "  plt.show()\n",
        "\n",
        "\n",
        "  ## 결과 창을 확인하니 분포가 개판이긴함 - normalization 이나 각 데이터별로 target이랑 어떤 상관관계를 갖는지를 알아야될 듯. 이후 이걸 바탕으로 전처리\n",
        "merge = (traindf , testdf )"
      ],
      "metadata": {
        "colab": {
          "base_uri": "https://localhost:8080/",
          "height": 1000
        },
        "id": "3HeeL4qn95Yc",
        "outputId": "ca946005-a771-4544-85ff-0a14487a11e5"
      },
      "execution_count": null,
      "outputs": [
        {
          "output_type": "display_data",
          "data": {
            "text/plain": [
              "<Figure size 432x288 with 1 Axes>"
            ],
            "image/png": "[encoded data removed]"
          },
          "metadata": {
            "needs_background": "light"
          }
        },
        {
          "output_type": "display_data",
          "data": {
            "text/plain": [
              "<Figure size 432x288 with 1 Axes>"
            ],
            "image/png": "[encoded data removed]"
          },
          "metadata": {
            "needs_background": "light"
          }
        },
        {
          "output_type": "display_data",
          "data": {
            "text/plain": [
              "<Figure size 432x288 with 1 Axes>"
            ],
            "image/png": "[encoded data removed]"
          },
          "metadata": {
            "needs_background": "light"
          }
        },
        {
          "output_type": "display_data",
          "data": {
            "text/plain": [
              "<Figure size 432x288 with 1 Axes>"
            ],
            "image/png": "[encoded data removed]"
          },
          "metadata": {
            "needs_background": "light"
          }
        },
        {
          "output_type": "display_data",
          "data": {
            "text/plain": [
              "<Figure size 432x288 with 1 Axes>"
            ],
            "image/png": "[encoded data removed]"
          },
          "metadata": {
            "needs_background": "light"
          }
        },
        {
          "output_type": "display_data",
          "data": {
            "text/plain": [
              "<Figure size 432x288 with 1 Axes>"
            ],
            "image/png": "[encoded data removed]"
          },
          "metadata": {
            "needs_background": "light"
          }
        },
        {
          "output_type": "display_data",
          "data": {
            "text/plain": [
              "<Figure size 432x288 with 1 Axes>"
            ],
            "image/png": "[encoded data removed]"
          },
          "metadata": {
            "needs_background": "light"
          }
        },
        {
          "output_type": "display_data",
          "data": {
            "text/plain": [
              "<Figure size 432x288 with 1 Axes>"
            ],
            "image/png": "[encoded data removed]"
          },
          "metadata": {
            "needs_background": "light"
          }
        },
        {
          "output_type": "display_data",
          "data": {
            "text/plain": [
              "<Figure size 432x288 with 1 Axes>"
            ],
            "image/png": "[encoded data removed]"
          },
          "metadata": {
            "needs_background": "light"
          }
        },
        {
          "output_type": "display_data",
          "data": {
            "text/plain": [
              "<Figure size 432x288 with 1 Axes>"
            ],
            "image/png": "[encoded data removed]"
          },
          "metadata": {
            "needs_background": "light"
          }
        },
        {
          "output_type": "display_data",
          "data": {
            "text/plain": [
              "<Figure size 432x288 with 1 Axes>"
            ],
            "image/png": "[encoded data removed]"
          },
          "metadata": {
            "needs_background": "light"
          }
        },
        {
          "output_type": "display_data",
          "data": {
            "text/plain": [
              "<Figure size 432x288 with 1 Axes>"
            ],
            "image/png": "[encoded data removed]"
          },
          "metadata": {
            "needs_background": "light"
          }
        },
        {
          "output_type": "display_data",
          "data": {
            "text/plain": [
              "<Figure size 432x288 with 1 Axes>"
            ],
            "image/png": "[encoded data removed]"
          },
          "metadata": {
            "needs_background": "light"
          }
        },
        {
          "output_type": "display_data",
          "data": {
            "text/plain": [
              "<Figure size 432x288 with 1 Axes>"
            ],
            "image/png": "[encoded data removed]"
          },
          "metadata": {
            "needs_background": "light"
          }
        },
        {
          "output_type": "display_data",
          "data": {
            "text/plain": [
              "<Figure size 432x288 with 1 Axes>"
            ],
            "image/png": "[encoded data removed]"
          },
          "metadata": {
            "needs_background": "light"
          }
        },
        {
          "output_type": "display_data",
          "data": {
            "text/plain": [
              "<Figure size 432x288 with 1 Axes>"
            ],
            "image/png": "[encoded data removed]"
          },
          "metadata": {
            "needs_background": "light"
          }
        }
      ]
    },
    {
      "cell_type": "code",
      "source": [
        "# 연속형 자료형 들인 cont1 ~ cont14 와 target 간의 관계를 알아내고 싶다. - 데이터 개수 30만개여서 한번에 다 plot 하기에는 stackoverflow 나니, 일부 random 한 값들만 뽑아서 쓰자.\n",
        "# 뚜렸한 선형 관계나 이런건 안보임..\n",
        "traindf['Newtarget']  = (traindf['target']-traindf['target'].mean())/traindf['target'].std() ## normalization of target -> 큰 의미는 없음 parameters \n",
        "# for column in traindf.columns : \n",
        "\n",
        "#    x_tmp = traindf[column].to_numpy() \n",
        "#    y_tmp = traindf['Newtarget'].to_numpy() \n",
        "#    plt.title(column)\n",
        "#    plt.plot(x_tmp[:100],y_tmp[:100], 'yo')\n",
        "#    plt.show()\n",
        "\n",
        "corr  = traindf.corr() ## 상관계수들을 바로 볼 수 있음 \n",
        "print(corr) \n",
        "import seaborn as sb ## 시각화 Library \n",
        "sb.heatmap(data = traindf.corr(), annot=True, fmt = '.2f', linewidths=.5, cmap='Blues')\n",
        "\n",
        "\n",
        "# cont6 이 cont9~13 까지와의 상관 계수가 0.7정도로 높음 즉 cont6이 뭔가 연결지어주는 parameter로 작용하는건가? \n"
      ],
      "metadata": {
        "colab": {
          "base_uri": "https://localhost:8080/",
          "height": 1000
        },
        "id": "Hu6EcHJPCY4N",
        "outputId": "358740bc-1000-4aa7-8a07-c52b936e0387"
      },
      "execution_count": null,
      "outputs": [
        {
          "output_type": "stream",
          "name": "stdout",
          "text": [
            "                 id     cont1     cont2     cont3     cont4     cont5  \\\n",
            "id         1.000000 -0.001454  0.000574  0.001609  0.002131  0.001959   \n",
            "cont1     -0.001454  1.000000 -0.080170 -0.419712  0.273705 -0.059012   \n",
            "cont2      0.000574 -0.080170  1.000000  0.334487 -0.005533  0.150737   \n",
            "cont3      0.001609 -0.419712  0.334487  1.000000 -0.329131  0.060931   \n",
            "cont4      0.002131  0.273705 -0.005533 -0.329131  1.000000  0.123526   \n",
            "cont5      0.001959 -0.059012  0.150737  0.060931  0.123526  1.000000   \n",
            "cont6     -0.001971  0.698556  0.023692 -0.300509  0.152752 -0.179084   \n",
            "cont7     -0.000155  0.341478  0.116222  0.106904 -0.077045 -0.241272   \n",
            "cont8      0.002112  0.373340  0.081049 -0.309783  0.324784  0.010438   \n",
            "cont9      0.000030  0.794003 -0.046769 -0.406743  0.261927 -0.071764   \n",
            "cont10    -0.001652  0.725040  0.035101 -0.289756  0.204139 -0.102531   \n",
            "cont11    -0.000484  0.565717  0.126024 -0.075415  0.063961 -0.222244   \n",
            "cont12    -0.002075  0.600041  0.092642 -0.103735  0.073291 -0.192571   \n",
            "cont13    -0.000577  0.570382  0.017383 -0.386521  0.155226 -0.140272   \n",
            "cont14     0.001940  0.067294  0.023972 -0.065457  0.054703  0.040552   \n",
            "target     0.001347 -0.032994  0.067102  0.058936  0.005522 -0.005358   \n",
            "Newtarget  0.001347 -0.032994  0.067102  0.058936  0.005522 -0.005358   \n",
            "\n",
            "              cont6     cont7     cont8     cont9    cont10    cont11  \\\n",
            "id        -0.001971 -0.000155  0.002112  0.000030 -0.001652 -0.000484   \n",
            "cont1      0.698556  0.341478  0.373340  0.794003  0.725040  0.565717   \n",
            "cont2      0.023692  0.116222  0.081049 -0.046769  0.035101  0.126024   \n",
            "cont3     -0.300509  0.106904 -0.309783 -0.406743 -0.289756 -0.075415   \n",
            "cont4      0.152752 -0.077045  0.324784  0.261927  0.204139  0.063961   \n",
            "cont5     -0.179084 -0.241272  0.010438 -0.071764 -0.102531 -0.222244   \n",
            "cont6      1.000000  0.541975  0.415008  0.716613  0.770628  0.737495   \n",
            "cont7      0.541975  1.000000  0.150403  0.341759  0.465418  0.672188   \n",
            "cont8      0.415008  0.150403  1.000000  0.429986  0.362336  0.296598   \n",
            "cont9      0.716613  0.341759  0.429986  1.000000  0.725053  0.575095   \n",
            "cont10     0.770628  0.465418  0.362336  0.725053  1.000000  0.677570   \n",
            "cont11     0.737495  0.672188  0.296598  0.575095  0.677570  1.000000   \n",
            "cont12     0.757105  0.657310  0.323042  0.605091  0.701872  0.825869   \n",
            "cont13     0.783604  0.322415  0.475072  0.628391  0.650809  0.558546   \n",
            "cont14     0.067007 -0.037135  0.100645  0.081992  0.047727  0.011074   \n",
            "target     0.027955  0.067234  0.014698 -0.013029 -0.021143  0.050996   \n",
            "Newtarget  0.027955  0.067234  0.014698 -0.013029 -0.021143  0.050996   \n",
            "\n",
            "             cont12    cont13    cont14    target  Newtarget  \n",
            "id        -0.002075 -0.000577  0.001940  0.001347   0.001347  \n",
            "cont1      0.600041  0.570382  0.067294 -0.032994  -0.032994  \n",
            "cont2      0.092642  0.017383  0.023972  0.067102   0.067102  \n",
            "cont3     -0.103735 -0.386521 -0.065457  0.058936   0.058936  \n",
            "cont4      0.073291  0.155226  0.054703  0.005522   0.005522  \n",
            "cont5     -0.192571 -0.140272  0.040552 -0.005358  -0.005358  \n",
            "cont6      0.757105  0.783604  0.067007  0.027955   0.027955  \n",
            "cont7      0.657310  0.322415 -0.037135  0.067234   0.067234  \n",
            "cont8      0.323042  0.475072  0.100645  0.014698   0.014698  \n",
            "cont9      0.605091  0.628391  0.081992 -0.013029  -0.013029  \n",
            "cont10     0.701872  0.650809  0.047727 -0.021143  -0.021143  \n",
            "cont11     0.825869  0.558546  0.011074  0.050996   0.050996  \n",
            "cont12     1.000000  0.565462  0.022697  0.047809   0.047809  \n",
            "cont13     0.565462  1.000000  0.103839 -0.006642  -0.006642  \n",
            "cont14     0.022697  0.103839  1.000000 -0.006609  -0.006609  \n",
            "target     0.047809 -0.006642 -0.006609  1.000000   1.000000  \n",
            "Newtarget  0.047809 -0.006642 -0.006609  1.000000   1.000000  \n"
          ]
        },
        {
          "output_type": "execute_result",
          "data": {
            "text/plain": [
              "<matplotlib.axes._subplots.AxesSubplot at 0x7f5a75fa1890>"
            ]
          },
          "metadata": {},
          "execution_count": 25
        },
        {
          "output_type": "display_data",
          "data": {
            "text/plain": [
              "<Figure size 432x288 with 2 Axes>"
            ],
            "image/png": "[encoded data removed]"
          },
          "metadata": {
            "needs_background": "light"
          }
        }
      ]
    },
    {
      "cell_type": "code",
      "source": [
        "# 범주에 따라서 mean 값의 변화라도 관찰해보자. - cont1 cont3 normalization 하니깐 조금은 명확해 보이는 것 같기도 하네..? # 2022-05-02-03 여기까지\n",
        "plt.plot(traindf['cont12'][:1000],traindf['cont11'][:1000],'yo')\n",
        "plt.show()\n",
        "\n",
        "traindf['Newtarget']  = (traindf['target']-traindf['target'].mean())/traindf['target'].std()\n",
        "for column in traindf.columns : \n",
        "       print(traindf[column].dtypes)\n",
        "       print(column)\n",
        "       traindf['sampling_df'] = pd.qcut(traindf[column],6)\n",
        "       \n",
        "       print(traindf[['sampling_df','Newtarget']].groupby(['sampling_df'],as_index= False).mean().sort_values(by='sampling_df', ascending= True))\n",
        "       "
      ],
      "metadata": {
        "colab": {
          "base_uri": "https://localhost:8080/",
          "height": 1000
        },
        "id": "-HWu_AIt_WSg",
        "outputId": "9874b6e3-3fc4-458b-a341-16a843b0e889"
      },
      "execution_count": null,
      "outputs": [
        {
          "output_type": "display_data",
          "data": {
            "text/plain": [
              "<Figure size 432x288 with 1 Axes>"
            ],
            "image/png": "[encoded data removed]"
          },
          "metadata": {
            "needs_background": "light"
          }
        },
        {
          "output_type": "stream",
          "name": "stdout",
          "text": [
            "int64\n",
            "id\n",
            "                sampling_df  Newtarget\n",
            "0        (0.999, 82851.667]   0.000214\n",
            "1   (82851.667, 166244.667]  -0.003099\n",
            "2    (166244.667, 249738.5]  -0.002156\n",
            "3    (249738.5, 333185.333]   0.007759\n",
            "4  (333185.333, 416704.167]  -0.003424\n",
            "5    (416704.167, 499999.0]   0.000707\n",
            "float64\n",
            "cont1\n",
            "        sampling_df  Newtarget\n",
            "0  (-0.0833, 0.315]   0.068746\n",
            "1    (0.315, 0.381]   0.049976\n",
            "2    (0.381, 0.484]   0.007748\n",
            "3    (0.484, 0.561]  -0.035248\n",
            "4    (0.561, 0.688]  -0.060412\n",
            "5    (0.688, 1.016]  -0.030810\n",
            "float64\n",
            "cont2\n",
            "        sampling_df  Newtarget\n",
            "0  (-0.0324, 0.229]  -0.131807\n",
            "1    (0.229, 0.359]  -0.085323\n",
            "2    (0.359, 0.553]   0.050310\n",
            "3    (0.553, 0.622]   0.086164\n",
            "4    (0.622, 0.763]  -0.007784\n",
            "5     (0.763, 0.86]   0.088440\n",
            "float64\n",
            "cont3\n",
            "      sampling_df  Newtarget\n",
            "0   (0.02, 0.267]  -0.019247\n",
            "1  (0.267, 0.467]  -0.066171\n",
            "2  (0.467, 0.551]  -0.025881\n",
            "3  (0.551, 0.612]  -0.037685\n",
            "4  (0.612, 0.715]   0.006314\n",
            "5  (0.715, 1.007]   0.142671\n",
            "float64\n",
            "cont4\n",
            "      sampling_df  Newtarget\n",
            "0  (0.152, 0.261]   0.055339\n",
            "1  (0.261, 0.339]   0.012756\n",
            "2  (0.339, 0.483]  -0.017577\n",
            "3  (0.483, 0.632]  -0.131098\n",
            "4   (0.632, 0.81]  -0.008307\n",
            "5    (0.81, 1.01]   0.088887\n",
            "float64\n",
            "cont5\n",
            "      sampling_df  Newtarget\n",
            "0  (0.275, 0.283]  -0.003670\n",
            "1  (0.283, 0.294]   0.055975\n",
            "2  (0.294, 0.452]  -0.085309\n",
            "3  (0.452, 0.599]   0.060529\n",
            "4  (0.599, 0.763]   0.011617\n",
            "5  (0.763, 1.034]  -0.039142\n",
            "float64\n",
            "cont6\n",
            "       sampling_df  Newtarget\n",
            "0  (0.0652, 0.323]  -0.037127\n",
            "1   (0.323, 0.384]  -0.005651\n",
            "2   (0.384, 0.471]  -0.028630\n",
            "3   (0.471, 0.608]   0.020561\n",
            "4   (0.608, 0.792]   0.012327\n",
            "5   (0.792, 1.044]   0.038520\n",
            "float64\n",
            "cont7\n",
            "       sampling_df  Newtarget\n",
            "0  (-0.0987, 0.31]  -0.078761\n",
            "1    (0.31, 0.384]  -0.072461\n",
            "2   (0.384, 0.467]  -0.063884\n",
            "3   (0.467, 0.538]   0.034098\n",
            "4    (0.538, 0.67]   0.094366\n",
            "5    (0.67, 1.066]   0.086642\n",
            "float64\n",
            "cont8\n",
            "      sampling_df  Newtarget\n",
            "0  (0.216, 0.302]  -0.030261\n",
            "1  (0.302, 0.364]   0.011678\n",
            "2  (0.364, 0.483]  -0.047837\n",
            "3  (0.483, 0.605]   0.002828\n",
            "4  (0.605, 0.797]   0.062339\n",
            "5  (0.797, 1.024]   0.001253\n",
            "float64\n",
            "cont9\n",
            "       sampling_df  Newtarget\n",
            "0  (-0.242, 0.289]  -0.003538\n",
            "1    (0.289, 0.36]  -0.003193\n",
            "2    (0.36, 0.417]   0.039881\n",
            "3   (0.417, 0.484]   0.067597\n",
            "4   (0.484, 0.625]  -0.068188\n",
            "5   (0.625, 1.004]  -0.032559\n",
            "float64\n",
            "cont10\n",
            "                     sampling_df  Newtarget\n",
            "0  (-0.08600000000000001, 0.319]   0.011022\n",
            "1                 (0.319, 0.408]   0.038678\n",
            "2                 (0.408, 0.459]  -0.049053\n",
            "3                 (0.459, 0.589]   0.053584\n",
            "4                  (0.589, 0.81]  -0.007133\n",
            "5                    (0.81, 1.2]  -0.047098\n",
            "float64\n",
            "cont11\n",
            "       sampling_df  Newtarget\n",
            "0  (0.0823, 0.255]  -0.099025\n",
            "1   (0.255, 0.344]  -0.043237\n",
            "2   (0.344, 0.442]  -0.023096\n",
            "3   (0.442, 0.583]   0.053303\n",
            "4   (0.583, 0.733]   0.076316\n",
            "5   (0.733, 1.023]   0.035739\n",
            "float64\n",
            "cont12\n",
            "       sampling_df  Newtarget\n",
            "0  (0.0876, 0.275]  -0.030260\n",
            "1   (0.275, 0.349]  -0.103424\n",
            "2   (0.349, 0.487]   0.018317\n",
            "3   (0.487, 0.633]  -0.009767\n",
            "4   (0.633, 0.752]   0.079213\n",
            "5   (0.752, 1.049]   0.045921\n",
            "float64\n",
            "cont13\n",
            "                     sampling_df  Newtarget\n",
            "0  (0.028999999999999998, 0.332]   0.088204\n",
            "1                 (0.332, 0.365]  -0.031507\n",
            "2                 (0.365, 0.488]  -0.017314\n",
            "3                 (0.488, 0.692]  -0.063491\n",
            "4                 (0.692, 0.846]   0.013684\n",
            "5                 (0.846, 0.978]   0.010424\n",
            "float64\n",
            "cont14\n",
            "      sampling_df  Newtarget\n",
            "0  (0.165, 0.285]   0.074196\n",
            "1  (0.285, 0.362]  -0.066147\n",
            "2  (0.362, 0.432]  -0.041032\n",
            "3  (0.432, 0.642]   0.018627\n",
            "4  (0.642, 0.745]   0.087738\n",
            "5  (0.745, 0.869]  -0.073382\n",
            "float64\n",
            "target\n",
            "       sampling_df  Newtarget\n",
            "0  (-0.001, 7.123]  -1.490602\n",
            "1    (7.123, 7.53]  -0.787449\n",
            "2    (7.53, 7.941]  -0.255224\n",
            "3   (7.941, 8.335]   0.355931\n",
            "4   (8.335, 8.609]   0.770406\n",
            "5  (8.609, 10.268]   1.406937\n",
            "float64\n",
            "Newtarget\n",
            "         sampling_df  Newtarget\n",
            "0  (-10.785, -1.067]  -1.490602\n",
            "1   (-1.067, -0.513]  -0.787449\n",
            "2   (-0.513, 0.0476]  -0.255224\n",
            "3    (0.0476, 0.585]   0.355931\n",
            "4     (0.585, 0.959]   0.770406\n",
            "5     (0.959, 3.222]   1.406937\n"
          ]
        }
      ]
    },
    {
      "cell_type": "code",
      "source": [
        "## linear regression 모델이므로 linear regression을 써보고, gaussian regression 중 데이터가 많을 때 좋은 spartial GR 을 써보자. \n",
        "## 다중 공산성이 나타나므로 모델이 오버 피팅 될 수 있으므오 , Ridge / Lasso / Elastic net regression  -> 사용해보는 것 고려\n",
        "\n",
        "# 여러가지 함수들 테스트 - 제곱, 지수, 삼각 모두 다 상관계수의 뚜렷한 개선은 없으므로, 일단 regression 때려보자.\n",
        "for i,column in enumerate(traindf.columns) :\n",
        "    if ( (i > 0) & (i<15) ) :\n",
        "         new_column = 'cont'+str(i)+'_modified'\n",
        "         traindf[new_column] = traindf[column] / traindf['cont6']\n",
        "\n",
        "traindf.corr()['target'].sort_values(ascending= True)"
      ],
      "metadata": {
        "colab": {
          "base_uri": "https://localhost:8080/"
        },
        "id": "Z_MMCIhZC7sZ",
        "outputId": "901e9e95-1a87-46b0-d228-c5b61d6681b6"
      },
      "execution_count": null,
      "outputs": [
        {
          "output_type": "execute_result",
          "data": {
            "text/plain": [
              "cont1_modified    -0.076487\n",
              "cont10_modified   -0.063975\n",
              "cont13_modified   -0.054466\n",
              "cont9_modified    -0.049339\n",
              "cont1             -0.032994\n",
              "cont14_modified   -0.027035\n",
              "cont10            -0.021143\n",
              "cont5_modified    -0.019866\n",
              "cont9             -0.013029\n",
              "cont13            -0.006642\n",
              "cont14            -0.006609\n",
              "cont5             -0.005358\n",
              "cont8_modified    -0.005224\n",
              "cont4_modified    -0.003329\n",
              "id                 0.001347\n",
              "cont4              0.005522\n",
              "cont3_modified     0.009317\n",
              "cont8              0.014698\n",
              "cont6              0.027955\n",
              "cont2_modified     0.028464\n",
              "cont12_modified    0.028975\n",
              "cont7_modified     0.035759\n",
              "cont11_modified    0.037519\n",
              "cont12             0.047809\n",
              "cont11             0.050996\n",
              "cont3              0.058936\n",
              "cont2              0.067102\n",
              "cont7              0.067234\n",
              "target             1.000000\n",
              "cont6_modified          NaN\n",
              "Name: target, dtype: float64"
            ]
          },
          "metadata": {},
          "execution_count": 5
        }
      ]
    },
    {
      "cell_type": "code",
      "source": [
        "## dataset building 하기\n",
        "\n",
        "# 이전까지 전처리는 없었으니 쿨하게  column 만든 것들 다 없애기 \n",
        "\n",
        "traindf = pd.read_csv(traindir)\n",
        "testdf = pd.read_csv(testdir)\n",
        "\n",
        "# validation set 만들기 train set의 20%..!\n",
        "validdf = traindf.sample(n = int(len(traindf)*0.1) , random_state = 2022)\n",
        "traindf = traindf.drop(validdf.index) # sklearn split써도됨\n",
        "traindf.describe()\n",
        "\n",
        "dfs = (traindf,validdf,testdf)\n",
        "\n",
        "\n",
        "# 정규화 (normalization or standarization)\n",
        "for df in dfs : \n",
        "   for column in df.columns :\n",
        "      if(column == 'id' or column == 'target') :\n",
        "         continue \n",
        "      df[column]  = (df[column]-df[column].min())/(df[column].max()-df[column].min()) \n",
        "\n",
        "traindf_np = traindf.to_numpy().astype(float)\n",
        "vailddf_np = validdf.to_numpy().astype(float)\n",
        "testdf_np = testdf.to_numpy().astype(float)\n",
        "\n",
        "\n",
        "# GPU활용하려면 .to(device) or cuda()\n",
        "traindata = torch.from_numpy(traindf_np).cuda()\n",
        "vailddata = torch.from_numpy(vailddf_np).cuda()\n",
        "testdata = torch.from_numpy(testdf_np).cuda()\n",
        "print(traindata.shape)\n",
        "\n",
        "## 2022-05-19-17:30 아래 모델 정의하고 L1 L2 공부하고 dataloader로 바꾸기 전까지 완료\n",
        "\n",
        "\n",
        "traindf.describe()"
      ],
      "metadata": {
        "colab": {
          "base_uri": "https://localhost:8080/",
          "height": 382
        },
        "id": "oQof6DATcSF6",
        "outputId": "4a25b6f5-54b6-4de0-89f4-5f8829f3bede"
      },
      "execution_count": null,
      "outputs": [
        {
          "output_type": "stream",
          "name": "stdout",
          "text": [
            "torch.Size([270000, 16])\n"
          ]
        },
        {
          "output_type": "execute_result",
          "data": {
            "text/plain": [
              "                  id          cont1          cont2          cont3  \\\n",
              "count  270000.000000  270000.000000  270000.000000  270000.000000   \n",
              "mean   249842.912696       0.536456       0.593897       0.507615   \n",
              "std    144452.394300       0.185615       0.256002       0.203618   \n",
              "min         1.000000       0.000000       0.000000       0.000000   \n",
              "25%    124702.750000       0.387303       0.392970       0.327674   \n",
              "50%    249741.000000       0.515574       0.656034       0.538036   \n",
              "75%    374829.250000       0.660935       0.855594       0.636152   \n",
              "max    499998.000000       1.000000       1.000000       1.000000   \n",
              "\n",
              "               cont4          cont5          cont6          cont7  \\\n",
              "count  270000.000000  270000.000000  270000.000000  270000.000000   \n",
              "mean        0.423345       0.297422       0.471122       0.503121   \n",
              "std         0.271745       0.291000       0.222976       0.155554   \n",
              "min         0.000000       0.000000       0.000000       0.000000   \n",
              "25%         0.165852       0.010201       0.296834       0.381740   \n",
              "50%         0.385098       0.230976       0.414196       0.485118   \n",
              "75%         0.695061       0.519888       0.642729       0.583438   \n",
              "max         1.000000       1.000000       1.000000       1.000000   \n",
              "\n",
              "               cont8          cont9         cont10         cont11  \\\n",
              "count  270000.000000  270000.000000  270000.000000  270000.000000   \n",
              "mean        0.381409       0.562883       0.463453       0.426604   \n",
              "std         0.267895       0.158008       0.159413       0.234192   \n",
              "min         0.000000       0.000000       0.000000       0.000000   \n",
              "25%         0.153865       0.459280       0.348868       0.231376   \n",
              "50%         0.329507       0.528226       0.414798       0.381992   \n",
              "75%         0.579723       0.655357       0.605482       0.634449   \n",
              "max         1.000000       1.000000       1.000000       1.000000   \n",
              "\n",
              "              cont12         cont13         cont14         target  \n",
              "count  270000.000000  270000.000000  270000.000000  270000.000000  \n",
              "mean        0.435536       0.552211       0.480529       7.905331  \n",
              "std         0.227885       0.242385       0.296703       0.732748  \n",
              "min         0.000000       0.000000       0.000000       3.700459  \n",
              "25%         0.230731       0.338088       0.202748       7.328970  \n",
              "50%         0.414701       0.482451       0.377875       7.939758  \n",
              "75%         0.630776       0.779290       0.778221       8.469750  \n",
              "max         1.000000       1.000000       1.000000      10.267569  "
            ],
            "text/html": [
              "\n",
              "  <div id=\"df-78d4d35a-7372-436b-961e-9fd5a9dc656e\">\n",
              "    <div class=\"colab-df-container\">\n",
              "      <div>\n",
              "<style scoped>\n",
              "    .dataframe tbody tr th:only-of-type {\n",
              "        vertical-align: middle;\n",
              "    }\n",
              "\n",
              "    .dataframe tbody tr th {\n",
              "        vertical-align: top;\n",
              "    }\n",
              "\n",
              "    .dataframe thead th {\n",
              "        text-align: right;\n",
              "    }\n",
              "</style>\n",
              "<table border=\"1\" class=\"dataframe\">\n",
              "  <thead>\n",
              "    <tr style=\"text-align: right;\">\n",
              "      <th></th>\n",
              "      <th>id</th>\n",
              "      <th>cont1</th>\n",
              "      <th>cont2</th>\n",
              "      <th>cont3</th>\n",
              "      <th>cont4</th>\n",
              "      <th>cont5</th>\n",
              "      <th>cont6</th>\n",
              "      <th>cont7</th>\n",
              "      <th>cont8</th>\n",
              "      <th>cont9</th>\n",
              "      <th>cont10</th>\n",
              "      <th>cont11</th>\n",
              "      <th>cont12</th>\n",
              "      <th>cont13</th>\n",
              "      <th>cont14</th>\n",
              "      <th>target</th>\n",
              "    </tr>\n",
              "  </thead>\n",
              "  <tbody>\n",
              "    <tr>\n",
              "      <th>count</th>\n",
              "      <td>270000.000000</td>\n",
              "      <td>270000.000000</td>\n",
              "      <td>270000.000000</td>\n",
              "      <td>270000.000000</td>\n",
              "      <td>270000.000000</td>\n",
              "      <td>270000.000000</td>\n",
              "      <td>270000.000000</td>\n",
              "      <td>270000.000000</td>\n",
              "      <td>270000.000000</td>\n",
              "      <td>270000.000000</td>\n",
              "      <td>270000.000000</td>\n",
              "      <td>270000.000000</td>\n",
              "      <td>270000.000000</td>\n",
              "      <td>270000.000000</td>\n",
              "      <td>270000.000000</td>\n",
              "      <td>270000.000000</td>\n",
              "    </tr>\n",
              "    <tr>\n",
              "      <th>mean</th>\n",
              "      <td>249842.912696</td>\n",
              "      <td>0.536456</td>\n",
              "      <td>0.593897</td>\n",
              "      <td>0.507615</td>\n",
              "      <td>0.423345</td>\n",
              "      <td>0.297422</td>\n",
              "      <td>0.471122</td>\n",
              "      <td>0.503121</td>\n",
              "      <td>0.381409</td>\n",
              "      <td>0.562883</td>\n",
              "      <td>0.463453</td>\n",
              "      <td>0.426604</td>\n",
              "      <td>0.435536</td>\n",
              "      <td>0.552211</td>\n",
              "      <td>0.480529</td>\n",
              "      <td>7.905331</td>\n",
              "    </tr>\n",
              "    <tr>\n",
              "      <th>std</th>\n",
              "      <td>144452.394300</td>\n",
              "      <td>0.185615</td>\n",
              "      <td>0.256002</td>\n",
              "      <td>0.203618</td>\n",
              "      <td>0.271745</td>\n",
              "      <td>0.291000</td>\n",
              "      <td>0.222976</td>\n",
              "      <td>0.155554</td>\n",
              "      <td>0.267895</td>\n",
              "      <td>0.158008</td>\n",
              "      <td>0.159413</td>\n",
              "      <td>0.234192</td>\n",
              "      <td>0.227885</td>\n",
              "      <td>0.242385</td>\n",
              "      <td>0.296703</td>\n",
              "      <td>0.732748</td>\n",
              "    </tr>\n",
              "    <tr>\n",
              "      <th>min</th>\n",
              "      <td>1.000000</td>\n",
              "      <td>0.000000</td>\n",
              "      <td>0.000000</td>\n",
              "      <td>0.000000</td>\n",
              "      <td>0.000000</td>\n",
              "      <td>0.000000</td>\n",
              "      <td>0.000000</td>\n",
              "      <td>0.000000</td>\n",
              "      <td>0.000000</td>\n",
              "      <td>0.000000</td>\n",
              "      <td>0.000000</td>\n",
              "      <td>0.000000</td>\n",
              "      <td>0.000000</td>\n",
              "      <td>0.000000</td>\n",
              "      <td>0.000000</td>\n",
              "      <td>3.700459</td>\n",
              "    </tr>\n",
              "    <tr>\n",
              "      <th>25%</th>\n",
              "      <td>124702.750000</td>\n",
              "      <td>0.387303</td>\n",
              "      <td>0.392970</td>\n",
              "      <td>0.327674</td>\n",
              "      <td>0.165852</td>\n",
              "      <td>0.010201</td>\n",
              "      <td>0.296834</td>\n",
              "      <td>0.381740</td>\n",
              "      <td>0.153865</td>\n",
              "      <td>0.459280</td>\n",
              "      <td>0.348868</td>\n",
              "      <td>0.231376</td>\n",
              "      <td>0.230731</td>\n",
              "      <td>0.338088</td>\n",
              "      <td>0.202748</td>\n",
              "      <td>7.328970</td>\n",
              "    </tr>\n",
              "    <tr>\n",
              "      <th>50%</th>\n",
              "      <td>249741.000000</td>\n",
              "      <td>0.515574</td>\n",
              "      <td>0.656034</td>\n",
              "      <td>0.538036</td>\n",
              "      <td>0.385098</td>\n",
              "      <td>0.230976</td>\n",
              "      <td>0.414196</td>\n",
              "      <td>0.485118</td>\n",
              "      <td>0.329507</td>\n",
              "      <td>0.528226</td>\n",
              "      <td>0.414798</td>\n",
              "      <td>0.381992</td>\n",
              "      <td>0.414701</td>\n",
              "      <td>0.482451</td>\n",
              "      <td>0.377875</td>\n",
              "      <td>7.939758</td>\n",
              "    </tr>\n",
              "    <tr>\n",
              "      <th>75%</th>\n",
              "      <td>374829.250000</td>\n",
              "      <td>0.660935</td>\n",
              "      <td>0.855594</td>\n",
              "      <td>0.636152</td>\n",
              "      <td>0.695061</td>\n",
              "      <td>0.519888</td>\n",
              "      <td>0.642729</td>\n",
              "      <td>0.583438</td>\n",
              "      <td>0.579723</td>\n",
              "      <td>0.655357</td>\n",
              "      <td>0.605482</td>\n",
              "      <td>0.634449</td>\n",
              "      <td>0.630776</td>\n",
              "      <td>0.779290</td>\n",
              "      <td>0.778221</td>\n",
              "      <td>8.469750</td>\n",
              "    </tr>\n",
              "    <tr>\n",
              "      <th>max</th>\n",
              "      <td>499998.000000</td>\n",
              "      <td>1.000000</td>\n",
              "      <td>1.000000</td>\n",
              "      <td>1.000000</td>\n",
              "      <td>1.000000</td>\n",
              "      <td>1.000000</td>\n",
              "      <td>1.000000</td>\n",
              "      <td>1.000000</td>\n",
              "      <td>1.000000</td>\n",
              "      <td>1.000000</td>\n",
              "      <td>1.000000</td>\n",
              "      <td>1.000000</td>\n",
              "      <td>1.000000</td>\n",
              "      <td>1.000000</td>\n",
              "      <td>1.000000</td>\n",
              "      <td>10.267569</td>\n",
              "    </tr>\n",
              "  </tbody>\n",
              "</table>\n",
              "</div>\n",
              "      <button class=\"colab-df-convert\" onclick=\"convertToInteractive('df-78d4d35a-7372-436b-961e-9fd5a9dc656e')\"\n",
              "              title=\"Convert this dataframe to an interactive table.\"\n",
              "              style=\"display:none;\">\n",
              "        \n",
              "  <svg xmlns=\"http://www.w3.org/2000/svg\" height=\"24px\"viewBox=\"0 0 24 24\"\n",
              "       width=\"24px\">\n",
              "    <path d=\"M0 0h24v24H0V0z\" fill=\"none\"/>\n",
              "    <path d=\"M18.56 5.44l.94 2.06.94-2.06 2.06-.94-2.06-.94-.94-2.06-.94 2.06-2.06.94zm-11 1L8.5 8.5l.94-2.06 2.06-.94-2.06-.94L8.5 2.5l-.94 2.06-2.06.94zm10 10l.94 2.06.94-2.06 2.06-.94-2.06-.94-.94-2.06-.94 2.06-2.06.94z\"/><path d=\"M17.41 7.96l-1.37-1.37c-.4-.4-.92-.59-1.43-.59-.52 0-1.04.2-1.43.59L10.3 9.45l-7.72 7.72c-.78.78-.78 2.05 0 2.83L4 21.41c.39.39.9.59 1.41.59.51 0 1.02-.2 1.41-.59l7.78-7.78 2.81-2.81c.8-.78.8-2.07 0-2.86zM5.41 20L4 18.59l7.72-7.72 1.47 1.35L5.41 20z\"/>\n",
              "  </svg>\n",
              "      </button>\n",
              "      \n",
              "  <style>\n",
              "    .colab-df-container {\n",
              "      display:flex;\n",
              "      flex-wrap:wrap;\n",
              "      gap: 12px;\n",
              "    }\n",
              "\n",
              "    .colab-df-convert {\n",
              "      background-color: #E8F0FE;\n",
              "      border: none;\n",
              "      border-radius: 50%;\n",
              "      cursor: pointer;\n",
              "      display: none;\n",
              "      fill: #1967D2;\n",
              "      height: 32px;\n",
              "      padding: 0 0 0 0;\n",
              "      width: 32px;\n",
              "    }\n",
              "\n",
              "    .colab-df-convert:hover {\n",
              "      background-color: #E2EBFA;\n",
              "      box-shadow: 0px 1px 2px rgba(60, 64, 67, 0.3), 0px 1px 3px 1px rgba(60, 64, 67, 0.15);\n",
              "      fill: #174EA6;\n",
              "    }\n",
              "\n",
              "    [theme=dark] .colab-df-convert {\n",
              "      background-color: #3B4455;\n",
              "      fill: #D2E3FC;\n",
              "    }\n",
              "\n",
              "    [theme=dark] .colab-df-convert:hover {\n",
              "      background-color: #434B5C;\n",
              "      box-shadow: 0px 1px 3px 1px rgba(0, 0, 0, 0.15);\n",
              "      filter: drop-shadow(0px 1px 2px rgba(0, 0, 0, 0.3));\n",
              "      fill: #FFFFFF;\n",
              "    }\n",
              "  </style>\n",
              "\n",
              "      <script>\n",
              "        const buttonEl =\n",
              "          document.querySelector('#df-78d4d35a-7372-436b-961e-9fd5a9dc656e button.colab-df-convert');\n",
              "        buttonEl.style.display =\n",
              "          google.colab.kernel.accessAllowed ? 'block' : 'none';\n",
              "\n",
              "        async function convertToInteractive(key) {\n",
              "          const element = document.querySelector('#df-78d4d35a-7372-436b-961e-9fd5a9dc656e');\n",
              "          const dataTable =\n",
              "            await google.colab.kernel.invokeFunction('convertToInteractive',\n",
              "                                                     [key], {});\n",
              "          if (!dataTable) return;\n",
              "\n",
              "          const docLinkHtml = 'Like what you see? Visit the ' +\n",
              "            '<a target=\"_blank\" href=https://colab.research.google.com/notebooks/data_table.ipynb>data table notebook</a>'\n",
              "            + ' to learn more about interactive tables.';\n",
              "          element.innerHTML = '';\n",
              "          dataTable['output_type'] = 'display_data';\n",
              "          await google.colab.output.renderOutput(dataTable, element);\n",
              "          const docLink = document.createElement('div');\n",
              "          docLink.innerHTML = docLinkHtml;\n",
              "          element.appendChild(docLink);\n",
              "        }\n",
              "      </script>\n",
              "    </div>\n",
              "  </div>\n",
              "  "
            ]
          },
          "metadata": {},
          "execution_count": 86
        }
      ]
    },
    {
      "cell_type": "code",
      "source": [
        "## dataloader를 사용하려면 custom dataset class 생성해야됨 이것은 len , getitem이 정의 되어있어야함 .객채 parsing\n",
        "\n",
        "\n",
        "class MyDataset  :\n",
        "\n",
        "   def __init__(self,x_tensor,y_tensor) : \n",
        "        \n",
        "        self.x_train = x_tensor\n",
        "        self.y_train = y_tensor\n",
        "\n",
        "   def __len__(self) :\n",
        "       return self.x_train.shape[0]\n",
        "\n",
        "   def __getitem__(self,idx) : \n",
        "\n",
        "      return self.x_train[idx], self.y_train[idx]         \n",
        "\n",
        "\n",
        "merged = (traindata,vailddata)\n",
        "\n",
        "print(traindata.shape)\n",
        "batchsize  = 100000\n",
        " \n",
        "traindataset = MyDataset(traindata[:,1:15].float(),traindata[:,-1].float().view(-1,1))\n",
        "\n",
        "validdataset = MyDataset(vailddata[:,1:15].float(),vailddata[:,-1].float().view(-1,1))\n",
        "\n",
        "testdataset = MyDataset(testdata[:,1:15].float(),testdata[:,-1].float().view(-1,1))\n",
        "\n",
        "trainloader = torch.utils.data.DataLoader(traindataset,batch_size = traindataset.len() ,shuffle = True)\n",
        "validloader = torch.utils.data.DataLoader(validdataset,batch_size = batchsize, shuffle = True)\n",
        "testloader = torch.utils.data.DataLoader(testdataset,batch_size = batchsize , shuffle = False)\n"
      ],
      "metadata": {
        "colab": {
          "base_uri": "https://localhost:8080/"
        },
        "id": "13_QiG9F8Lrf",
        "outputId": "1560b8f4-848f-4f92-8a3a-1c3167c718c6"
      },
      "execution_count": null,
      "outputs": [
        {
          "output_type": "stream",
          "name": "stdout",
          "text": [
            "torch.Size([270000, 16])\n"
          ]
        }
      ]
    },
    {
      "cell_type": "code",
      "source": [
        "## 2022-05-19 3:20 시작 아마 2시간~3시간 정도 할 수 있을 듯..?\n",
        "\n",
        "## 모델 구성하기 \n",
        "\n",
        "# Elastic net regression - why? 다중 공산성을 가지므로 근데 선형 회귀로 충분할까? - 그냥 nolinear 부여하는 activation function으로 relu를 함 써보고 쌓아보자..!\n",
        "# https://www.richard-stanton.com/2021/06/19/pytorch-elasticnet.html 참고함 - pytorch implemetation은 틀린 것 같은데, 어차피 MSE Loss를 쓴느데..?\n",
        "\n",
        "\n",
        "\n",
        "## MSE loss에서 L2 norm 그리고 내가 직접 L1 norm을 만들어서 loss에 반영함.\n",
        "\n",
        "## 그냥 내가 layer 두텁게 쌓아본 것 . silu를 써보는 것도 방법인데 layer 개수가 많지 않으므로 pass\n",
        "\n",
        "class CustomNetwork(nn.Module) :\n",
        "     \n",
        "     def __init__(self, num_parameters = 14, learning_rate = 0.1, Lambda = 0.5 , p = 0.2) :\n",
        "        super(CustomNetwork, self).__init__()\n",
        "        self.learning_rate = learning_rate\n",
        "        self.Lambda = Lambda\n",
        "\n",
        "        self.fc1  = nn.Linear(int(num_parameters) ,1024) \n",
        "        self.relu = nn.ReLU() ; \n",
        "        self.fc2  = nn.Linear(1024,2048)\n",
        "        #self.dropout = nn.Dropout(p=p, inplace = False) \n",
        "        self.fc3  = nn.Linear(2048,2048)\n",
        "        self.fc4 =  nn.Linear(2048,2048)\n",
        "        self.fc5  =  nn.Linear(2048,1024)\n",
        "\n",
        "        self.fc6  = nn.Linear(1024,512)\n",
        "        self.fc7 = nn.Linear(512,1)\n",
        "\n",
        "     def forward(self,x) : \n",
        "\n",
        "        x = self.relu(self.fc1(x))\n",
        "        x = self.relu(self.fc2(x))\n",
        "        x = self.relu(self.fc3(x))\n",
        "        #x = self.dropout(x) ## 데이터 수가 15개의 cont 보다 훠얼씬 많아 overfitting 될까봐\n",
        "        x = self.relu(self.fc4(x))\n",
        "        #x = self.dropout(x) \n",
        "        x = self.relu(self.fc5(x))\n",
        "        x = self.fc7(self.relu(self.fc6(x)))\n",
        "\n",
        "        return x \n",
        "\n",
        "class ElasticNetwork(nn.Module) :\n",
        "     def __init__(self,loss_fn, num_paramters = 13, learning_rate = 0.1, L1Lambda = 0.5 , L2Lambda = 0.5, p = 0.2) :\n",
        "        super(ElasticNetwork, self).__init__()\n",
        "        self.learning_rate = learning_rate\n",
        "        self.loss_fn  = loss_fn \n",
        "        self.L1Lambda = L1Lambda\n",
        "        self.L2Lambda = L2Lambda \n",
        "\n",
        "        self.fc1 = nn.Linear(num_paramters , 1) \n",
        "\n",
        "        #self.dropout = nn.Dropout(p=p, inplace = False) \n",
        "\n",
        "     def forward(self,x) :\n",
        "\n",
        "        return self.fc1(x)\n",
        "\n",
        "\n",
        "## class for gaussian network \n",
        "\n",
        "## sklearn에서는 쉽게 prebuilt 된 것에 model.fit 하면 되겠지만.. torch로 구현한다면 adam을 통해 L2norm , torch.norm을 통해 L1norm을 구현해야한다.\n",
        "\n",
        "\n",
        "def train( mymodel, trainloader,validloader , lr = 0.1,  epoch =100, regulation = 'Both',L2lambda = 0.5,L1lambda= 0.5, scheduler = None ) : #validloader 는 batch size 1로 하는게 좋을 것 같음.\n",
        "    \n",
        "    print(\"epoch = {} \".format(epoch))\n",
        "    \n",
        "    if (regulation == 'L1') :\n",
        "             optimizer = torch.optim.SGD(mymodel.parameters(),lr)\n",
        "\n",
        "    elif (regulation == 'Both' or regulation == 'L2') : \n",
        "             optimizer = torch.optim.SGD(mymodel.parameters(),lr, weight_decay = 0.1)      ## weight decay -> L2 regulation\n",
        "    else :\n",
        "       optimizer = torch.optim.SGD(mymodel.parameters(),lr)\n",
        "\n",
        "    loss_function = torch.nn.MSELoss() # 평균값을 뱉어내기 위해서 \n",
        "             \n",
        "    train_losses = []\n",
        "    \n",
        "    if (scheduler is not None) :\n",
        "          scheduler = torch.optim.lr_scheduler.MultiStepLR(optimizer, milestones=[10,20,30,40,50,60,70,80,90], gamma=0.9)\n",
        "    for i in range(epoch) :\n",
        "                mymodel.train()\n",
        "                loss_epoch = 0 \n",
        "                for idx,batch in enumerate(trainloader) :\n",
        "                    batchsize= batch[0].shape[0]\n",
        "                    x_train, y_train = batch \n",
        "                    \n",
        "\n",
        "                    optimizer.zero_grad() \n",
        "                    y_pre = mymodel(x_train)\n",
        "                    \n",
        "                    loss = loss_function(y_pre,y_train)\n",
        "                    if (regulation != 'L2' and regulation != 'None') :\n",
        "                          loss += sum(p.abs().sum() for p in mymodel.parameters())\n",
        "                    loss.backward()\n",
        "                    optimizer.step()\n",
        "                    if (scheduler is not None) :\n",
        "                       scheduler.step()\n",
        "                    loss_epoch += loss.item()\n",
        "\n",
        "                    if ((idx+1)%5 == 0 ) :\n",
        "                        print(\"loss of {}th epoch {}th batch : {}\".format(i+1,idx+1,loss.item()))\n",
        "\n",
        "                print(\"-------------------------------------------------------\")\n",
        "                print(\"{}th epoch train loss is {}\".format(i+1,loss_epoch))\n",
        "                train_losses.append(loss_epoch/batchsize)\n",
        "\n",
        "\n",
        "                print(\"---------------------validation of after {} epoch \".format(i+1))\n",
        "                valid_losses = []\n",
        "                valid_loss = 0\n",
        "                mymodel.eval()\n",
        "                for x,y in validloader : \n",
        "                    \n",
        "                    y_pre = mymodel(x) \n",
        "                    loss = loss_function(y_pre,y)\n",
        "                    valid_loss += loss.item() \n",
        "\n",
        "                 \n",
        "                print(\"{}th epoch vaild loss is {}\".format(i+1,valid_loss))    \n",
        "                valid_losses.append(valid_loss)         \n",
        "\n",
        "    return (train_losses, valid_losses)\n",
        "\n",
        "\n",
        "\n"
      ],
      "metadata": {
        "id": "kHFDag00-SdL"
      },
      "execution_count": null,
      "outputs": []
    },
    {
      "cell_type": "code",
      "source": [
        "!nvidia-smi"
      ],
      "metadata": {
        "colab": {
          "base_uri": "https://localhost:8080/"
        },
        "id": "sXhrLCk2bGWd",
        "outputId": "6bc770b6-08f9-48ae-a2a9-5c9ad7a387e8"
      },
      "execution_count": null,
      "outputs": [
        {
          "output_type": "stream",
          "name": "stdout",
          "text": [
            "Fri May 20 07:53:09 2022       \n",
            "+-----------------------------------------------------------------------------+\n",
            "| NVIDIA-SMI 460.32.03    Driver Version: 460.32.03    CUDA Version: 11.2     |\n",
            "|-------------------------------+----------------------+----------------------+\n",
            "| GPU  Name        Persistence-M| Bus-Id        Disp.A | Volatile Uncorr. ECC |\n",
            "| Fan  Temp  Perf  Pwr:Usage/Cap|         Memory-Usage | GPU-Util  Compute M. |\n",
            "|                               |                      |               MIG M. |\n",
            "|===============================+======================+======================|\n",
            "|   0  Tesla T4            Off  | 00000000:00:04.0 Off |                    0 |\n",
            "| N/A   71C    P0    32W /  70W |   2144MiB / 15109MiB |      0%      Default |\n",
            "|                               |                      |                  N/A |\n",
            "+-------------------------------+----------------------+----------------------+\n",
            "                                                                               \n",
            "+-----------------------------------------------------------------------------+\n",
            "| Processes:                                                                  |\n",
            "|  GPU   GI   CI        PID   Type   Process name                  GPU Memory |\n",
            "|        ID   ID                                                   Usage      |\n",
            "|=============================================================================|\n",
            "+-----------------------------------------------------------------------------+\n"
          ]
        }
      ]
    },
    {
      "cell_type": "code",
      "source": [
        "import os \n",
        "\n",
        "\n",
        "# Main training models \n",
        "\n",
        "network = CustomNetwork(num_parameters= 14)\n",
        "#network = ElasticNetwork(num_paramters= 14,loss_fn='MSE')\n",
        "network.cuda()\n",
        "network.state_dict()\n",
        "\n",
        "train_history , valid_history  = train(network,trainloader= trainloader, validloader = validloader, regulation = 'None',lr= 0.01, epoch  = 100, scheduler = 'OK' )\n"
      ],
      "metadata": {
        "colab": {
          "base_uri": "https://localhost:8080/"
        },
        "id": "9m0tFtXg_Rtw",
        "outputId": "4c54d283-0442-4479-d39c-f9e94c3722a5"
      },
      "execution_count": null,
      "outputs": [
        {
          "output_type": "stream",
          "name": "stdout",
          "text": [
            "epoch = 100 \n",
            "-------------------------------------------------------\n",
            "1th epoch train loss is 181.12258911132812\n",
            "---------------------validation of after 1 epoch \n",
            "1th epoch vaild loss is 54.11961364746094\n",
            "-------------------------------------------------------\n",
            "2th epoch train loss is 152.0252914428711\n",
            "---------------------validation of after 2 epoch \n",
            "2th epoch vaild loss is 42.98531723022461\n",
            "-------------------------------------------------------\n",
            "3th epoch train loss is 109.14309692382812\n",
            "---------------------validation of after 3 epoch \n",
            "3th epoch vaild loss is 12.524791717529297\n",
            "-------------------------------------------------------\n",
            "4th epoch train loss is 55.98878765106201\n",
            "---------------------validation of after 4 epoch \n",
            "4th epoch vaild loss is 27.506940841674805\n",
            "-------------------------------------------------------\n",
            "5th epoch train loss is 60.30305767059326\n",
            "---------------------validation of after 5 epoch \n",
            "5th epoch vaild loss is 2.250048875808716\n",
            "-------------------------------------------------------\n",
            "6th epoch train loss is 7.784366130828857\n",
            "---------------------validation of after 6 epoch \n",
            "6th epoch vaild loss is 1.4063960313796997\n",
            "-------------------------------------------------------\n",
            "7th epoch train loss is 5.3311134576797485\n",
            "---------------------validation of after 7 epoch \n",
            "7th epoch vaild loss is 2.108527898788452\n",
            "-------------------------------------------------------\n",
            "8th epoch train loss is 4.292421340942383\n",
            "---------------------validation of after 8 epoch \n",
            "8th epoch vaild loss is 0.9232094883918762\n",
            "-------------------------------------------------------\n",
            "9th epoch train loss is 2.7952575087547302\n",
            "---------------------validation of after 9 epoch \n",
            "9th epoch vaild loss is 0.9301655292510986\n",
            "-------------------------------------------------------\n",
            "10th epoch train loss is 2.511437177658081\n",
            "---------------------validation of after 10 epoch \n",
            "10th epoch vaild loss is 0.762151300907135\n",
            "-------------------------------------------------------\n",
            "11th epoch train loss is 2.17306387424469\n",
            "---------------------validation of after 11 epoch \n",
            "11th epoch vaild loss is 0.6807739734649658\n",
            "-------------------------------------------------------\n",
            "12th epoch train loss is 1.953971266746521\n",
            "---------------------validation of after 12 epoch \n",
            "12th epoch vaild loss is 0.6487093567848206\n",
            "-------------------------------------------------------\n",
            "13th epoch train loss is 1.9061791896820068\n",
            "---------------------validation of after 13 epoch \n",
            "13th epoch vaild loss is 0.6425641775131226\n",
            "-------------------------------------------------------\n",
            "14th epoch train loss is 1.8820812702178955\n",
            "---------------------validation of after 14 epoch \n",
            "14th epoch vaild loss is 0.6357966661453247\n",
            "-------------------------------------------------------\n",
            "15th epoch train loss is 1.8657526969909668\n",
            "---------------------validation of after 15 epoch \n",
            "15th epoch vaild loss is 0.630670964717865\n",
            "-------------------------------------------------------\n",
            "16th epoch train loss is 1.8532917499542236\n",
            "---------------------validation of after 16 epoch \n",
            "16th epoch vaild loss is 0.626041829586029\n",
            "-------------------------------------------------------\n",
            "17th epoch train loss is 1.8392581939697266\n",
            "---------------------validation of after 17 epoch \n",
            "17th epoch vaild loss is 0.6220481991767883\n",
            "-------------------------------------------------------\n",
            "18th epoch train loss is 1.8272757530212402\n",
            "---------------------validation of after 18 epoch \n",
            "18th epoch vaild loss is 0.6179502010345459\n",
            "-------------------------------------------------------\n",
            "19th epoch train loss is 1.8164567947387695\n",
            "---------------------validation of after 19 epoch \n",
            "19th epoch vaild loss is 0.6149135231971741\n",
            "-------------------------------------------------------\n",
            "20th epoch train loss is 1.806339144706726\n",
            "---------------------validation of after 20 epoch \n",
            "20th epoch vaild loss is 0.6112281084060669\n",
            "-------------------------------------------------------\n",
            "21th epoch train loss is 1.7978965640068054\n",
            "---------------------validation of after 21 epoch \n",
            "21th epoch vaild loss is 0.6084750890731812\n",
            "-------------------------------------------------------\n",
            "22th epoch train loss is 1.7901908159255981\n",
            "---------------------validation of after 22 epoch \n",
            "22th epoch vaild loss is 0.6058672070503235\n",
            "-------------------------------------------------------\n",
            "23th epoch train loss is 1.7827704548835754\n",
            "---------------------validation of after 23 epoch \n",
            "23th epoch vaild loss is 0.6035686731338501\n",
            "-------------------------------------------------------\n",
            "24th epoch train loss is 1.7752482891082764\n",
            "---------------------validation of after 24 epoch \n",
            "24th epoch vaild loss is 0.601383626461029\n",
            "-------------------------------------------------------\n",
            "25th epoch train loss is 1.7699865698814392\n",
            "---------------------validation of after 25 epoch \n",
            "25th epoch vaild loss is 0.5993620753288269\n",
            "-------------------------------------------------------\n",
            "26th epoch train loss is 1.763892948627472\n",
            "---------------------validation of after 26 epoch \n",
            "26th epoch vaild loss is 0.5971714854240417\n",
            "-------------------------------------------------------\n",
            "27th epoch train loss is 1.7579500675201416\n",
            "---------------------validation of after 27 epoch \n",
            "27th epoch vaild loss is 0.5955274701118469\n",
            "-------------------------------------------------------\n",
            "28th epoch train loss is 1.753268301486969\n",
            "---------------------validation of after 28 epoch \n",
            "28th epoch vaild loss is 0.5939319133758545\n",
            "-------------------------------------------------------\n",
            "29th epoch train loss is 1.7484800815582275\n",
            "---------------------validation of after 29 epoch \n",
            "29th epoch vaild loss is 0.5921856164932251\n",
            "-------------------------------------------------------\n",
            "30th epoch train loss is 1.7434033751487732\n",
            "---------------------validation of after 30 epoch \n",
            "30th epoch vaild loss is 0.5908072590827942\n",
            "-------------------------------------------------------\n",
            "31th epoch train loss is 1.7412076592445374\n",
            "---------------------validation of after 31 epoch \n",
            "31th epoch vaild loss is 0.5895268321037292\n",
            "-------------------------------------------------------\n",
            "32th epoch train loss is 1.7365059852600098\n",
            "---------------------validation of after 32 epoch \n",
            "32th epoch vaild loss is 0.5885429978370667\n",
            "-------------------------------------------------------\n",
            "33th epoch train loss is 1.7328717112541199\n",
            "---------------------validation of after 33 epoch \n",
            "33th epoch vaild loss is 0.5871738195419312\n",
            "-------------------------------------------------------\n",
            "34th epoch train loss is 1.7295125722885132\n",
            "---------------------validation of after 34 epoch \n",
            "34th epoch vaild loss is 0.5860736966133118\n",
            "-------------------------------------------------------\n",
            "35th epoch train loss is 1.7260315418243408\n",
            "---------------------validation of after 35 epoch \n",
            "35th epoch vaild loss is 0.5848532915115356\n",
            "-------------------------------------------------------\n",
            "36th epoch train loss is 1.722895324230194\n",
            "---------------------validation of after 36 epoch \n",
            "36th epoch vaild loss is 0.5836472511291504\n",
            "-------------------------------------------------------\n",
            "37th epoch train loss is 1.7216072082519531\n",
            "---------------------validation of after 37 epoch \n",
            "37th epoch vaild loss is 0.5828312635421753\n",
            "-------------------------------------------------------\n",
            "38th epoch train loss is 1.717740535736084\n",
            "---------------------validation of after 38 epoch \n",
            "38th epoch vaild loss is 0.5818321704864502\n",
            "-------------------------------------------------------\n",
            "39th epoch train loss is 1.7149388790130615\n",
            "---------------------validation of after 39 epoch \n",
            "39th epoch vaild loss is 0.5808987021446228\n",
            "-------------------------------------------------------\n",
            "40th epoch train loss is 1.7108628153800964\n",
            "---------------------validation of after 40 epoch \n",
            "40th epoch vaild loss is 0.5798038840293884\n",
            "-------------------------------------------------------\n",
            "41th epoch train loss is 1.7097051739692688\n",
            "---------------------validation of after 41 epoch \n",
            "41th epoch vaild loss is 0.5791573524475098\n",
            "-------------------------------------------------------\n",
            "42th epoch train loss is 1.7063923478126526\n",
            "---------------------validation of after 42 epoch \n",
            "42th epoch vaild loss is 0.577885627746582\n",
            "-------------------------------------------------------\n",
            "43th epoch train loss is 1.703350305557251\n",
            "---------------------validation of after 43 epoch \n",
            "43th epoch vaild loss is 0.5772185325622559\n",
            "-------------------------------------------------------\n",
            "44th epoch train loss is 1.7024250626564026\n",
            "---------------------validation of after 44 epoch \n",
            "44th epoch vaild loss is 0.5764533281326294\n",
            "-------------------------------------------------------\n",
            "45th epoch train loss is 1.698639988899231\n",
            "---------------------validation of after 45 epoch \n",
            "45th epoch vaild loss is 0.5754222869873047\n",
            "-------------------------------------------------------\n",
            "46th epoch train loss is 1.6972367763519287\n",
            "---------------------validation of after 46 epoch \n",
            "46th epoch vaild loss is 0.5747036337852478\n",
            "-------------------------------------------------------\n",
            "47th epoch train loss is 1.6945509314537048\n",
            "---------------------validation of after 47 epoch \n",
            "47th epoch vaild loss is 0.5738729238510132\n",
            "-------------------------------------------------------\n",
            "48th epoch train loss is 1.6924365758895874\n",
            "---------------------validation of after 48 epoch \n",
            "48th epoch vaild loss is 0.5731614828109741\n",
            "-------------------------------------------------------\n",
            "49th epoch train loss is 1.6910258531570435\n",
            "---------------------validation of after 49 epoch \n",
            "49th epoch vaild loss is 0.5725691914558411\n",
            "-------------------------------------------------------\n",
            "50th epoch train loss is 1.6883097290992737\n",
            "---------------------validation of after 50 epoch \n",
            "50th epoch vaild loss is 0.5720149278640747\n",
            "-------------------------------------------------------\n",
            "51th epoch train loss is 1.6868804693222046\n",
            "---------------------validation of after 51 epoch \n",
            "51th epoch vaild loss is 0.5710662603378296\n",
            "-------------------------------------------------------\n",
            "52th epoch train loss is 1.6847476363182068\n",
            "---------------------validation of after 52 epoch \n",
            "52th epoch vaild loss is 0.5703531503677368\n",
            "-------------------------------------------------------\n",
            "53th epoch train loss is 1.683134138584137\n",
            "---------------------validation of after 53 epoch \n",
            "53th epoch vaild loss is 0.569774866104126\n",
            "-------------------------------------------------------\n",
            "54th epoch train loss is 1.6817155480384827\n",
            "---------------------validation of after 54 epoch \n",
            "54th epoch vaild loss is 0.5692902207374573\n",
            "-------------------------------------------------------\n",
            "55th epoch train loss is 1.6790016889572144\n",
            "---------------------validation of after 55 epoch \n",
            "55th epoch vaild loss is 0.5686435699462891\n",
            "-------------------------------------------------------\n",
            "56th epoch train loss is 1.6772467494010925\n",
            "---------------------validation of after 56 epoch \n",
            "56th epoch vaild loss is 0.5679861903190613\n",
            "-------------------------------------------------------\n",
            "57th epoch train loss is 1.6763793230056763\n",
            "---------------------validation of after 57 epoch \n",
            "57th epoch vaild loss is 0.5673813819885254\n",
            "-------------------------------------------------------\n",
            "58th epoch train loss is 1.6738703846931458\n",
            "---------------------validation of after 58 epoch \n",
            "58th epoch vaild loss is 0.5669048428535461\n",
            "-------------------------------------------------------\n",
            "59th epoch train loss is 1.6724643111228943\n",
            "---------------------validation of after 59 epoch \n",
            "59th epoch vaild loss is 0.5665280818939209\n",
            "-------------------------------------------------------\n",
            "60th epoch train loss is 1.6711792945861816\n",
            "---------------------validation of after 60 epoch \n",
            "60th epoch vaild loss is 0.5657282471656799\n",
            "-------------------------------------------------------\n",
            "61th epoch train loss is 1.6680917739868164\n",
            "---------------------validation of after 61 epoch \n",
            "61th epoch vaild loss is 0.5653851628303528\n",
            "-------------------------------------------------------\n",
            "62th epoch train loss is 1.6672877073287964\n",
            "---------------------validation of after 62 epoch \n",
            "62th epoch vaild loss is 0.5649689435958862\n",
            "-------------------------------------------------------\n",
            "63th epoch train loss is 1.6682927012443542\n",
            "---------------------validation of after 63 epoch \n",
            "63th epoch vaild loss is 0.5643631219863892\n",
            "-------------------------------------------------------\n",
            "64th epoch train loss is 1.6657775044441223\n",
            "---------------------validation of after 64 epoch \n",
            "64th epoch vaild loss is 0.5638014674186707\n",
            "-------------------------------------------------------\n",
            "65th epoch train loss is 1.6647399067878723\n",
            "---------------------validation of after 65 epoch \n",
            "65th epoch vaild loss is 0.5632631778717041\n",
            "-------------------------------------------------------\n",
            "66th epoch train loss is 1.662262201309204\n",
            "---------------------validation of after 66 epoch \n",
            "66th epoch vaild loss is 0.5630151629447937\n",
            "-------------------------------------------------------\n",
            "67th epoch train loss is 1.66221684217453\n",
            "---------------------validation of after 67 epoch \n",
            "67th epoch vaild loss is 0.5626676678657532\n",
            "-------------------------------------------------------\n",
            "68th epoch train loss is 1.6593762636184692\n",
            "---------------------validation of after 68 epoch \n",
            "68th epoch vaild loss is 0.5623070597648621\n",
            "-------------------------------------------------------\n",
            "69th epoch train loss is 1.6592866778373718\n",
            "---------------------validation of after 69 epoch \n",
            "69th epoch vaild loss is 0.5618634223937988\n",
            "-------------------------------------------------------\n",
            "70th epoch train loss is 1.657413363456726\n",
            "---------------------validation of after 70 epoch \n",
            "70th epoch vaild loss is 0.5611912608146667\n",
            "-------------------------------------------------------\n",
            "71th epoch train loss is 1.6558555960655212\n",
            "---------------------validation of after 71 epoch \n",
            "71th epoch vaild loss is 0.560765266418457\n",
            "-------------------------------------------------------\n",
            "72th epoch train loss is 1.6556975841522217\n",
            "---------------------validation of after 72 epoch \n",
            "72th epoch vaild loss is 0.5604903101921082\n",
            "-------------------------------------------------------\n",
            "73th epoch train loss is 1.654193937778473\n",
            "---------------------validation of after 73 epoch \n",
            "73th epoch vaild loss is 0.5601469874382019\n",
            "-------------------------------------------------------\n",
            "74th epoch train loss is 1.6526352167129517\n",
            "---------------------validation of after 74 epoch \n",
            "74th epoch vaild loss is 0.559673547744751\n",
            "-------------------------------------------------------\n",
            "75th epoch train loss is 1.65287846326828\n",
            "---------------------validation of after 75 epoch \n",
            "75th epoch vaild loss is 0.5594556331634521\n",
            "-------------------------------------------------------\n",
            "76th epoch train loss is 1.65121990442276\n",
            "---------------------validation of after 76 epoch \n",
            "76th epoch vaild loss is 0.559072732925415\n",
            "-------------------------------------------------------\n",
            "77th epoch train loss is 1.6505597233772278\n",
            "---------------------validation of after 77 epoch \n",
            "77th epoch vaild loss is 0.5587112307548523\n",
            "-------------------------------------------------------\n",
            "78th epoch train loss is 1.648256003856659\n",
            "---------------------validation of after 78 epoch \n",
            "78th epoch vaild loss is 0.5582242012023926\n",
            "-------------------------------------------------------\n",
            "79th epoch train loss is 1.6476119756698608\n",
            "---------------------validation of after 79 epoch \n",
            "79th epoch vaild loss is 0.5580359697341919\n",
            "-------------------------------------------------------\n",
            "80th epoch train loss is 1.6488295793533325\n",
            "---------------------validation of after 80 epoch \n",
            "80th epoch vaild loss is 0.5579348206520081\n",
            "-------------------------------------------------------\n",
            "81th epoch train loss is 1.6463558077812195\n",
            "---------------------validation of after 81 epoch \n",
            "81th epoch vaild loss is 0.5573543310165405\n",
            "-------------------------------------------------------\n",
            "82th epoch train loss is 1.6453320980072021\n",
            "---------------------validation of after 82 epoch \n",
            "82th epoch vaild loss is 0.5570594668388367\n",
            "-------------------------------------------------------\n",
            "83th epoch train loss is 1.6462396383285522\n",
            "---------------------validation of after 83 epoch \n",
            "83th epoch vaild loss is 0.5568463802337646\n",
            "-------------------------------------------------------\n",
            "84th epoch train loss is 1.644327461719513\n",
            "---------------------validation of after 84 epoch \n",
            "84th epoch vaild loss is 0.5564263463020325\n",
            "-------------------------------------------------------\n",
            "85th epoch train loss is 1.6427677869796753\n",
            "---------------------validation of after 85 epoch \n",
            "85th epoch vaild loss is 0.5561209917068481\n",
            "-------------------------------------------------------\n",
            "86th epoch train loss is 1.641380488872528\n",
            "---------------------validation of after 86 epoch \n",
            "86th epoch vaild loss is 0.5559146404266357\n",
            "-------------------------------------------------------\n",
            "87th epoch train loss is 1.6425679326057434\n",
            "---------------------validation of after 87 epoch \n",
            "87th epoch vaild loss is 0.555816650390625\n",
            "-------------------------------------------------------\n",
            "88th epoch train loss is 1.6405200362205505\n",
            "---------------------validation of after 88 epoch \n",
            "88th epoch vaild loss is 0.5553324222564697\n",
            "-------------------------------------------------------\n",
            "89th epoch train loss is 1.640557885169983\n",
            "---------------------validation of after 89 epoch \n",
            "89th epoch vaild loss is 0.5552054643630981\n",
            "-------------------------------------------------------\n",
            "90th epoch train loss is 1.6408390998840332\n",
            "---------------------validation of after 90 epoch \n",
            "90th epoch vaild loss is 0.5549522638320923\n",
            "-------------------------------------------------------\n",
            "91th epoch train loss is 1.6385787725448608\n",
            "---------------------validation of after 91 epoch \n",
            "91th epoch vaild loss is 0.5545659065246582\n",
            "-------------------------------------------------------\n",
            "92th epoch train loss is 1.6379224061965942\n",
            "---------------------validation of after 92 epoch \n",
            "92th epoch vaild loss is 0.5541641712188721\n",
            "-------------------------------------------------------\n",
            "93th epoch train loss is 1.6376351714134216\n",
            "---------------------validation of after 93 epoch \n",
            "93th epoch vaild loss is 0.5542536973953247\n",
            "-------------------------------------------------------\n",
            "94th epoch train loss is 1.6368231177330017\n",
            "---------------------validation of after 94 epoch \n",
            "94th epoch vaild loss is 0.553768515586853\n",
            "-------------------------------------------------------\n",
            "95th epoch train loss is 1.6365631818771362\n",
            "---------------------validation of after 95 epoch \n",
            "95th epoch vaild loss is 0.5535718202590942\n",
            "-------------------------------------------------------\n",
            "96th epoch train loss is 1.6359317302703857\n",
            "---------------------validation of after 96 epoch \n",
            "96th epoch vaild loss is 0.5532739758491516\n",
            "-------------------------------------------------------\n",
            "97th epoch train loss is 1.6336849927902222\n",
            "---------------------validation of after 97 epoch \n",
            "97th epoch vaild loss is 0.5531486868858337\n",
            "-------------------------------------------------------\n",
            "98th epoch train loss is 1.6348260045051575\n",
            "---------------------validation of after 98 epoch \n",
            "98th epoch vaild loss is 0.5529215931892395\n",
            "-------------------------------------------------------\n",
            "99th epoch train loss is 1.6339572668075562\n",
            "---------------------validation of after 99 epoch \n",
            "99th epoch vaild loss is 0.5527503490447998\n",
            "-------------------------------------------------------\n",
            "100th epoch train loss is 1.6343231201171875\n",
            "---------------------validation of after 100 epoch \n",
            "100th epoch vaild loss is 0.552280843257904\n"
          ]
        }
      ]
    },
    {
      "cell_type": "code",
      "source": [
        "#training valid 그리리\n",
        "\n",
        "x = np.array([i+1 for i in range(len(train_history))])\n",
        "print(valid_history)\n",
        "plt.title(\"train_loss\")\n",
        "plt.plot(x[10:],train_history[10:])\n",
        "#plt.plot(x,valid_history)\n",
        "plt.show() \n"
      ],
      "metadata": {
        "colab": {
          "base_uri": "https://localhost:8080/",
          "height": 299
        },
        "id": "dDHO0uuQdr_I",
        "outputId": "07dc9032-08bf-47b4-fab2-dbcec86b09d5"
      },
      "execution_count": null,
      "outputs": [
        {
          "output_type": "stream",
          "name": "stdout",
          "text": [
            "[0.552280843257904]\n"
          ]
        },
        {
          "output_type": "display_data",
          "data": {
            "text/plain": [
              "<Figure size 432x288 with 1 Axes>"
            ],
            "image/png": "[encoded data removed]"
          },
          "metadata": {
            "needs_background": "light"
          }
        }
      ]
    },
    {
      "cell_type": "code",
      "source": [
        "#모델 저장하기 \n",
        "model_name = 'custommodelepoch100'\n",
        "torch.save(network.state_dict(), '/content/drive/MyDrive/Kaggles/kaggle_tps1/{}.pth'.format(model_name))"
      ],
      "metadata": {
        "id": "K_NFuF7TSQXE"
      },
      "execution_count": null,
      "outputs": []
    },
    {
      "cell_type": "code",
      "source": [
        "#모델 불러오기\n",
        "\n",
        "#Network = CustomNetwork() \n",
        "\n",
        "#Network.load_state_dict(torch.load('/content/drive/MyDrive/Kaggles/kaggle_tps1/mynetwork_epoch20.pth'))\n",
        "\n",
        "\n",
        "\n",
        "\n",
        "\n",
        "\n",
        "\n",
        "\n",
        "\n",
        "\n",
        "\n",
        "\n",
        "\n",
        "\n",
        "\n"
      ],
      "metadata": {
        "id": "c718m7MvShc8"
      },
      "execution_count": null,
      "outputs": []
    },
    {
      "cell_type": "code",
      "source": [
        "#test for submission\n",
        "\n",
        "#!mkdir /content/drive/MyDrive/Kaggles/kaggle_tps1/test_out\n",
        "network.eval()\n",
        "test_out = network(testdata[:,1:15].float())\n",
        "testdf['target'] = test_out.cpu().detach().numpy()\n",
        "testdf.describe()\n",
        "\n",
        "file_directory_testpre = '/content/drive/MyDrive/Kaggles/kaggle_tps1/test_out'\n",
        "\n",
        "output_name = '/submission2.csv'\n",
        "out_file = testdf[['id','target']].to_csv(file_directory_testpre+output_name,index=False)\n",
        "\n",
        "\n"
      ],
      "metadata": {
        "id": "N1741cDQEe9S"
      },
      "execution_count": null,
      "outputs": []
    },
    {
      "cell_type": "code",
      "source": [
        "!kaggle competitions submit -c tabular-playground-series-jan-2021 -f /content/drive/MyDrive/Kaggles/kaggle_tps1/test_out/submission2.csv -m \"Message\"\n",
        "\n",
        "## 제출하니 late submission 이며 1등은 0.695정도의 낮은 RMSE를 갖고 나는 0.82의 매우매우 높은 RMSE를 갖고 있었음. 둘다 아마 custom은 layer 수를 늘리고 epoch를 100정도 진행한다면, 0.7대까진 떨어질 수 있을 듯.\n",
        "## 그러나 모델의 한계가 매우 명확하니 하나 더 해보자..!\n",
        "## 원인 - 모델 한계(데이터가 많은 데에 비해 parameter나 구조가 매우 단순하였음) , 학습시 sheduler같은 거 안씀, 다른 모델을 만들어 보자..!\n",
        "\n"
      ],
      "metadata": {
        "colab": {
          "base_uri": "https://localhost:8080/"
        },
        "id": "O_vCMGDxPCqb",
        "outputId": "8a3fd720-c814-47ce-c371-c1f770514061"
      },
      "execution_count": null,
      "outputs": [
        {
          "output_type": "stream",
          "name": "stdout",
          "text": [
            "100% 3.07M/3.07M [00:02<00:00, 1.40MB/s]\n",
            "Successfully submitted to Tabular Playground Series - Jan 2021"
          ]
        }
      ]
    },
    {
      "cell_type": "code",
      "source": [
        "\n",
        "## 모델 공부해서 구현해서 사용해보기 - tree?  DAE (Denoiser auto encoder) , LGBM XBM GBM에 대해 공부하자.\n",
        "\n",
        "\n",
        "\n",
        "\n",
        "\n",
        "\n",
        "\n",
        "\n",
        "\n",
        "\n",
        "\n",
        "\n",
        "\n",
        "\n"
      ],
      "metadata": {
        "id": "ck4eg6m7POKr"
      },
      "execution_count": null,
      "outputs": []
    }
  ]
}